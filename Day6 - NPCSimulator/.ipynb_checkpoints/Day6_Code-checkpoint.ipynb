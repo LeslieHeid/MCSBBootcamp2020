{
 "cells": [
  {
   "cell_type": "code",
   "execution_count": 1,
   "metadata": {},
   "outputs": [],
   "source": [
    "# MCSB Bootcamp Day 6\n",
    "# Leslie Heid\n",
    "# Simulate a transcription factor diffusing inside the cytoplasm, searching\n",
    "# for a nuclear pore complex\n",
    "\n",
    "using PyPlot"
   ]
  },
  {
   "cell_type": "code",
   "execution_count": 2,
   "metadata": {},
   "outputs": [],
   "source": [
    "# numerical parameters\n",
    "dt = 0.001; # s\n",
    "ntmax = 1e6;\n",
    "\n",
    "NSample = 2000; # number of samples\n",
    "\n",
    "# model parameters\n",
    "D = 10; # microns^2/second\n",
    "L = 10; # microns\n",
    "NPCSize = 0.1; # microns\n",
    "NPCLocation = [-L/2,0];\n",
    "\n",
    "alpha = sqrt(2*D*dt);\n",
    "\n",
    "# data collection\n",
    "tCapture = zeros(NSample,1);"
   ]
  },
  {
   "cell_type": "code",
   "execution_count": 3,
   "metadata": {},
   "outputs": [],
   "source": [
    "#=\n",
    "# set up figure\n",
    "figure(1);\n",
    "plot(NPCLocation[1], NPCLocation[2], marker=\"o\", color=\"orange\")\n",
    "ylim([-L/2,L/2])\n",
    "xlim([-L/2,L/2])\n",
    "xlabel(\"x (um)\"); \n",
    "ylabel(\"y (um)\");\n",
    "=#"
   ]
  },
  {
   "cell_type": "code",
   "execution_count": 4,
   "metadata": {},
   "outputs": [
    {
     "name": "stdout",
     "output_type": "stream",
     "text": [
      " 25.425775 seconds (709.96 M allocations: 17.993 GiB, 5.61% gc time)\n"
     ]
    }
   ],
   "source": [
    "## Simulate!\n",
    "\n",
    "@time begin\n",
    "    \n",
    "b = L/2 # saving some repetetive comp time\n",
    "\n",
    "for iSample in 1:NSample\n",
    "        \n",
    "    # intial condition\n",
    "    x = [b,0]\n",
    "    \n",
    "    t = 0;\n",
    "    for nt in 1:ntmax\n",
    "        \n",
    "        # dynamics\n",
    "        x = x + alpha*randn(2,1)\n",
    "            \n",
    "        # boundaries\n",
    "        if x[1]>b\n",
    "            x[1]=b\n",
    "        elseif x[1]<-b\n",
    "            x[1]=-b\n",
    "        end\n",
    "        \n",
    "        if x[2]>b\n",
    "            x[2]=b\n",
    "        elseif x[2]<-b\n",
    "            x[2]=-b\n",
    "        end\n",
    "        \n",
    "        # test for NPC capture\n",
    "        if ( (x[1]-NPCLocation[1])^2 + (x[2]-NPCLocation[2])^2 < NPCSize^2 )\n",
    "            tCapture[iSample] = t\n",
    "            break\n",
    "        end\n",
    "\n",
    "        t = t + dt\n",
    "        \n",
    "    end # finished loop through time  \n",
    "end # finished loop through samples\n",
    "end # stops timer"
   ]
  },
  {
   "cell_type": "code",
   "execution_count": 5,
   "metadata": {},
   "outputs": [
    {
     "data": {
      "image/png": "[encoded data removed]",
      "text/plain": [
       "Figure(PyObject <Figure size 640x480 with 1 Axes>)"
      ]
     },
     "metadata": {},
     "output_type": "display_data"
    }
   ],
   "source": [
    "# analyze results\n",
    "hist(tCapture, 50)\n",
    "yscale(\"log\")"
   ]
  }
 ],
 "metadata": {
  "kernelspec": {
   "display_name": "Julia 1.5.1",
   "language": "julia",
   "name": "julia-1.5"
  },
  "language_info": {
   "file_extension": ".jl",
   "mimetype": "application/julia",
   "name": "julia",
   "version": "1.5.1"
  }
 },
 "nbformat": 4,
 "nbformat_minor": 4
}
